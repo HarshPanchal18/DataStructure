{
 "cells": [
  {
   "cell_type": "markdown",
   "metadata": {},
   "source": [
    "### Store the frequency of each character in a string using a HashMap in Kotlin\n",
    "\n",
    "```kotlin\n",
    "val string1 = \"Hello\"\n",
    "val string2 = \"Hello world Hello\"\n",
    "\n",
    "// Count occurrences of any char\n",
    "val count = string2.count { it in string1 }\n",
    "println(\"Total occurrences: $count\")\n",
    "\n",
    "// Count occurrences of each char individually\n",
    "val charOccurrences = string2.groupingBy { it }.eachCount()\n",
    "println(\"Occurrences of each char: $charOccurrences\")\n",
    "```\n"
   ]
  },
  {
   "cell_type": "markdown",
   "metadata": {},
   "source": [
    "### Store the frequency of each character in a string using a HashMap in Kotlin\n",
    "\n",
    "```kotlin\n",
    "val inputString = \"hello world, baeldung\"\n",
    "val occurrencesMap = mutableMapOf<Char, Int>()\n",
    "\n",
    "for (char in inputString) {\n",
    "    occurrencesMap[char] = occurrencesMap.getOrDefault(char, 0) + 1\n",
    "}\n",
    "\n",
    "// Now `occurrencesMap` contains the count of each distinct character\n",
    "println(occurrencesMap)\n",
    "```\n"
   ]
  }
 ],
 "metadata": {
  "language_info": {
   "name": "python"
  }
 },
 "nbformat": 4,
 "nbformat_minor": 2
}
